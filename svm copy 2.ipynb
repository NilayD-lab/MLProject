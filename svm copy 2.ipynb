{
 "cells": [
  {
   "cell_type": "code",
   "execution_count": 1,
   "metadata": {},
   "outputs": [
    {
     "name": "stderr",
     "output_type": "stream",
     "text": [
      "C:\\Users\\akani\\AppData\\Local\\Temp\\ipykernel_44664\\3515081970.py:4: DeprecationWarning: \n",
      "Pyarrow will become a required dependency of pandas in the next major release of pandas (pandas 3.0),\n",
      "(to allow more performant data types, such as the Arrow string type, and better interoperability with other libraries)\n",
      "but was not found to be installed on your system.\n",
      "If this would cause problems for you,\n",
      "please provide us feedback at https://github.com/pandas-dev/pandas/issues/54466\n",
      "        \n",
      "  import pandas as pd\n"
     ]
    }
   ],
   "source": [
    "# Run this cell\n",
    "import numpy as np\n",
    "import matplotlib\n",
    "import pandas as pd\n",
    "import matplotlib.pyplot as plt\n",
    "from sklearn.model_selection import train_test_split\n",
    "from sklearn.preprocessing import PolynomialFeatures, StandardScaler\n",
    "\n",
    "%matplotlib inline\n",
    "import re\n",
    "import nltk\n",
    "import string\n",
    "# run this in cmd to avoid an error beforehand for this import\n",
    "# python -m nltk.downloader stopwords punkt\n",
    "from nltk.corpus import stopwords\n",
    "\n",
    "import random\n",
    "from sklearn.feature_extraction.text import TfidfVectorizer\n",
    "from sklearn.svm import SVC\n",
    "from sklearn.metrics import accuracy_score\n",
    "from sklearn.metrics import precision_recall_fscore_support\n"
   ]
  },
  {
   "cell_type": "code",
   "execution_count": 2,
   "metadata": {},
   "outputs": [],
   "source": [
    "PUNCT_TO_REMOVE = string.punctuation\n",
    "STOPWORDS = set(stopwords.words('english'))\n",
    "\n",
    "def remove_urls(text):\n",
    "    url_pattern = re.compile(r'https?://\\S+|www\\.\\S+')\n",
    "    return url_pattern.sub(r'', text)\n",
    "\n",
    "def remove_punctuation(text):\n",
    "    \"\"\"custom function to remove the punctuation\"\"\"\n",
    "    return text.translate(str.maketrans('', '', PUNCT_TO_REMOVE))\n",
    "\n",
    "def remove_stopwords(text):\n",
    "    \"\"\"custom function to remove the stopwords\"\"\"\n",
    "    return \" \".join([word for word in str(text).split() if word not in STOPWORDS])\n"
   ]
  },
  {
   "cell_type": "code",
   "execution_count": 3,
   "metadata": {},
   "outputs": [
    {
     "data": {
      "text/html": [
       "<div>\n",
       "<style scoped>\n",
       "    .dataframe tbody tr th:only-of-type {\n",
       "        vertical-align: middle;\n",
       "    }\n",
       "\n",
       "    .dataframe tbody tr th {\n",
       "        vertical-align: top;\n",
       "    }\n",
       "\n",
       "    .dataframe thead th {\n",
       "        text-align: right;\n",
       "    }\n",
       "</style>\n",
       "<table border=\"1\" class=\"dataframe\">\n",
       "  <thead>\n",
       "    <tr style=\"text-align: right;\">\n",
       "      <th></th>\n",
       "      <th>id</th>\n",
       "      <th>keyword</th>\n",
       "      <th>location</th>\n",
       "      <th>text</th>\n",
       "      <th>target</th>\n",
       "    </tr>\n",
       "  </thead>\n",
       "  <tbody>\n",
       "    <tr>\n",
       "      <th>0</th>\n",
       "      <td>1</td>\n",
       "      <td>NaN</td>\n",
       "      <td>NaN</td>\n",
       "      <td>deeds reason earthquake may allah forgive us</td>\n",
       "      <td>1</td>\n",
       "    </tr>\n",
       "    <tr>\n",
       "      <th>1</th>\n",
       "      <td>4</td>\n",
       "      <td>NaN</td>\n",
       "      <td>NaN</td>\n",
       "      <td>forest fire near la ronge sask canada</td>\n",
       "      <td>1</td>\n",
       "    </tr>\n",
       "    <tr>\n",
       "      <th>2</th>\n",
       "      <td>5</td>\n",
       "      <td>NaN</td>\n",
       "      <td>NaN</td>\n",
       "      <td>residents asked shelter place notified officer...</td>\n",
       "      <td>1</td>\n",
       "    </tr>\n",
       "    <tr>\n",
       "      <th>3</th>\n",
       "      <td>6</td>\n",
       "      <td>NaN</td>\n",
       "      <td>NaN</td>\n",
       "      <td>13000 people receive wildfires evacuation orde...</td>\n",
       "      <td>1</td>\n",
       "    </tr>\n",
       "    <tr>\n",
       "      <th>4</th>\n",
       "      <td>7</td>\n",
       "      <td>NaN</td>\n",
       "      <td>NaN</td>\n",
       "      <td>got sent photo ruby alaska smoke wildfires pou...</td>\n",
       "      <td>1</td>\n",
       "    </tr>\n",
       "  </tbody>\n",
       "</table>\n",
       "</div>"
      ],
      "text/plain": [
       "   id keyword location                                               text  \\\n",
       "0   1     NaN      NaN       deeds reason earthquake may allah forgive us   \n",
       "1   4     NaN      NaN              forest fire near la ronge sask canada   \n",
       "2   5     NaN      NaN  residents asked shelter place notified officer...   \n",
       "3   6     NaN      NaN  13000 people receive wildfires evacuation orde...   \n",
       "4   7     NaN      NaN  got sent photo ruby alaska smoke wildfires pou...   \n",
       "\n",
       "   target  \n",
       "0       1  \n",
       "1       1  \n",
       "2       1  \n",
       "3       1  \n",
       "4       1  "
      ]
     },
     "execution_count": 3,
     "metadata": {},
     "output_type": "execute_result"
    }
   ],
   "source": [
    "df = pd.read_csv('train.csv')\n",
    "df[\"text\"] = df[\"text\"].str.lower()\n",
    "df[\"text\"] = df[\"text\"].apply(lambda text: remove_urls(text))\n",
    "df[\"text\"] = df[\"text\"].apply(lambda text: remove_punctuation(text))\n",
    "df[\"text\"] = df[\"text\"].apply(lambda text: remove_stopwords(text))\n",
    "df.head()"
   ]
  },
  {
   "cell_type": "code",
   "execution_count": 4,
   "metadata": {},
   "outputs": [],
   "source": [
    "def randNoun(lines):\n",
    "    # function to test if something is a noun\n",
    "    is_noun = lambda pos: pos[:2] == 'NN'\n",
    "    # do the nlp stuff\n",
    "    tokenized = nltk.word_tokenize(lines)\n",
    "    nouns = [word for (word, pos) in nltk.pos_tag(tokenized) if is_noun(pos)] \n",
    "    if (len(nouns) == 0): # if no nouns picked up return rand word in text\n",
    "        return lines[random.randrange(len(lines))]\n",
    "    return nouns[random.randrange(len(nouns))]"
   ]
  },
  {
   "cell_type": "code",
   "execution_count": 5,
   "metadata": {},
   "outputs": [
    {
     "name": "stdout",
     "output_type": "stream",
     "text": [
      "7613\n"
     ]
    }
   ],
   "source": [
    "# preprocessing of the dataset\n",
    "print(len(df[\"location\"]))\n",
    "words = {} # will hold unique keywords\n",
    "count = 0\n",
    "# getting rid of %20 in keyword and getting a list of all the unqiue keywords\n",
    "for i in df[\"keyword\"]:\n",
    "    i = str(i).replace(\"%20\", ' ')\n",
    "    if (i not in words.keys() and i != \"nan\"):\n",
    "        words[i] = count\n",
    "        count+=1\n",
    "\n",
    "# filling in missing feature values\n",
    "# missing keywords get filled in with a keywords already in \"words\" if that keyword shows up in text, otherwise pick a random word from text\n",
    "# Missing \"location\" gets filled in with \"Earth\"\n",
    "for i,j in df.iterrows():\n",
    "    if (pd.isna(j[\"keyword\"])):\n",
    "        for k in words.keys():\n",
    "            if k in j[\"text\"]:\n",
    "                df.at[i, \"keyword\"] = k\n",
    "            else:\n",
    "                df.at[i, \"keyword\"] = randNoun(j[\"text\"])\n",
    "    if (pd.isna(j[\"location\"])):\n",
    "        df.at[i, \"location\"] = \"Earth\"\n",
    "# for i, j in df.iterrows():\n",
    "#     if (pd.isna(j[\"location\"])):\n",
    "#         df.drop(i, axis=0, inplace=True)\n",
    "\n",
    "\n",
    "for i,j in df.iterrows():\n",
    "    if (df.at[i, \"target\"] == 0):\n",
    "        df.at[i, \"target\"] = -1"
   ]
  },
  {
   "cell_type": "code",
   "execution_count": 6,
   "metadata": {},
   "outputs": [],
   "source": [
    "# we are going to feature transform \n",
    "corpus = df[\"text\"].to_list() # combine all text to a bag of words\n",
    "vectorizer = TfidfVectorizer()\n",
    "X = vectorizer.fit_transform(corpus).toarray() # TF-IDF text encoding\n",
    "\n",
    "#doing hot and cold encoding for keywords\n",
    "words = {} # will hold unique keywords with a corresponding index\n",
    "count = 0\n",
    "for i in df[\"keyword\"]:\n",
    "    if (i not in words.keys()):\n",
    "        words[i] = count\n",
    "        count+=1\n",
    "# print(words)\n",
    "keywords_hot_cold = np.zeros((len(df[\"keyword\"]), len(words.keys()))) # init feature shape\n",
    "for i in range(keywords_hot_cold.shape[0]):\n",
    "    row = np.zeros(keywords_hot_cold.shape[1])\n",
    "    row[words[df.at[i, \"keyword\"]]] = 1 # using the index found in the dict, index the row and set the corresponding value of the keyword to 1\n",
    "    keywords_hot_cold[i] = row\n",
    "\n",
    "# keywords_vector =  np.zeros((len(df[\"keyword\"]), 1)) # column vector to store possible values\n",
    "# for i in range(keywords_vector.shape[0]):\n",
    "#     keywords_vector[i] = words[df.at[i, \"keyword\"]] # find corresponding value of that keyword in the \"words\" dict and assign that value \n",
    "# print(keywords_vector)\n",
    "\n",
    "#doing hot and cold encoding for locations\n",
    "locations = {}\n",
    "count = 0\n",
    "for i in df[\"location\"]:\n",
    "    if (i not in locations.keys()):\n",
    "        locations[i] = count\n",
    "        count+=1\n",
    "location_hot_cold = np.zeros((len(df[\"location\"]), len(locations.keys())))\n",
    "for i in range(location_hot_cold.shape[0]):\n",
    "    row = np.zeros(location_hot_cold.shape[1])\n",
    "    row[locations[df.at[i, \"location\"]]] = 1\n",
    "    location_hot_cold[i] = row\n",
    "\n",
    "# locations_vector =  np.zeros((len(df[\"location\"]), 1)) # column vector to store possible values\n",
    "# for i in range(locations_vector.shape[0]):\n",
    "#     locations_vector[i] = locations[df.at[i, \"location\"]] # find corresponding value of that keyword in the \"words\" dict and assign that value \n",
    "\n",
    "# scalar = StandardScaler()\n",
    "# keywords_vector = scalar.fit_transform(keywords_vector)\n",
    "# locations_vector = scalar.fit_transform(locations_vector)\n",
    "\n",
    "# print(np.max(locations_vector))\n",
    "\n",
    "\n"
   ]
  },
  {
   "cell_type": "code",
   "execution_count": 7,
   "metadata": {},
   "outputs": [],
   "source": [
    "# me trying to do data analytics. this sucks we have too many features :P\n",
    "# curr_max = 0\n",
    "# ind = -1\n",
    "# for i in range(X.shape[1]):\n",
    "#     total = np.sum(X[:,i])\n",
    "#     if (52.55877985596134 > total > curr_max):\n",
    "#         curr_max = total\n",
    "#         ind = i\n",
    "# print(curr_max)\n",
    "# print(ind)\n",
    "# 7958 9347 6168 6753\n",
    "# for i in range(0, len(df[\"target\"])):\n",
    "#     if (X[i, 7958] != 0 and X[i, 9347] != 0):\n",
    "#         if (df.at[i, \"target\"] == 0):\n",
    "#             plt.scatter(X[i, 7958], X[i, 9347], c='r')\n",
    "#         else:\n",
    "#             plt.scatter(X[i, 7958], X[i, 9347], c='b')\n",
    "#     if (X[i, 6168] != 0 and X[i, 6753] != 0):\n",
    "#         if (df.at[i, \"target\"] == 0):\n",
    "#             plt.scatter(X[i, 6168], X[i, 6753], c='green')\n",
    "#         else:\n",
    "#             plt.scatter(X[i, 6168], X[i, 6753], c='yellow')\n",
    "\n",
    "    \n",
    "    \n",
    "\n",
    "\n",
    "# print(np.max(X[:,7958]))\n",
    "\n",
    "# plt.show()"
   ]
  },
  {
   "cell_type": "code",
   "execution_count": 8,
   "metadata": {},
   "outputs": [],
   "source": [
    "# combine all features and split into training and validation sets\n",
    "\n",
    "X = np.hstack((keywords_hot_cold, location_hot_cold, X))\n",
    "y =  df[\"target\"]\n",
    "\n",
    "\n",
    "X_train, X_val,  y_train, y_val = train_test_split(X, df[\"target\"], test_size=.4)\n",
    "y_train = y_train.to_numpy()\n",
    "y_val = y_val.to_numpy()\n",
    "\n",
    "\n",
    "\n",
    "\n"
   ]
  },
  {
   "cell_type": "code",
   "execution_count": 9,
   "metadata": {},
   "outputs": [],
   "source": [
    "lmdas = [10000, 100, 10, .001, .0005, .0001]\n",
    "\n"
   ]
  },
  {
   "cell_type": "code",
   "execution_count": 10,
   "metadata": {},
   "outputs": [
    {
     "name": "stdout",
     "output_type": "stream",
     "text": [
      "{'acc_train': 0.5795927304576308, 'acc_val': 0.556467498358503, 'prec': array([0.5564675, 1.       ]), 'recal': array([1., 0.]), 'weights': 0}\n",
      "{'acc_train': 0.5795927304576308, 'acc_val': 0.556467498358503, 'prec': array([0.5564675, 1.       ]), 'recal': array([1., 0.]), 'weights': 0}\n",
      "{'acc_train': 0.5995182833369826, 'acc_val': 0.571897570584373, 'prec': array([0.5651884, 1.       ]), 'recal': array([1.        , 0.03478905]), 'weights': 0}\n",
      "{'acc_train': 0.995839719728487, 'acc_val': 0.7534471437951412, 'prec': array([0.75349087, 0.75337838]), 'recal': array([0.82772861, 0.66025167]), 'weights': 0}\n",
      "{'acc_train': 0.995839719728487, 'acc_val': 0.7534471437951412, 'prec': array([0.75349087, 0.75337838]), 'recal': array([0.82772861, 0.66025167]), 'weights': 0}\n",
      "{'acc_train': 0.995839719728487, 'acc_val': 0.7534471437951412, 'prec': array([0.75349087, 0.75337838]), 'recal': array([0.82772861, 0.66025167]), 'weights': 0}\n"
     ]
    }
   ],
   "source": [
    "from sklearn import svm\n",
    "\n",
    "# clf = SVC(C=1/lmda,gamma=1/(2*(sigma**2)))   \n",
    "# clf.fit(X_train, y_train)\n",
    "# print(clf.n_features_in_)\n",
    "# clf = linear_model.SGDClassifier(penalty = 'l2', alpha = lmda, max_iter=6000, loss=\"log_loss\")\n",
    "# clf.fit(X_train, y_train)\n",
    "\n",
    "results = []\n",
    "sv = svm.SVC(kernel=\"poly\", degree=2, cache_size=1000)\n",
    "for lmda in range(len(lmdas)):\n",
    "    results.append([])\n",
    "    sv.C = 1/lmdas[lmda]\n",
    "    sv.fit(X_train, y_train)\n",
    "    # w_logreg = svm.coef_\n",
    "    y_hat_logreg = sv.predict(X_val)\n",
    "    # Find the accuracy achieved on test set using logreg.score and y_test \n",
    "    \n",
    "    acc_train = sv.score(X_train, y_train)\n",
    "    acc_logreg = sv.score(X_val, y_val)\n",
    "    prec, recal, fscore, sup =  precision_recall_fscore_support(y_val, y_hat_logreg, zero_division=True)\n",
    "    results[lmda].append( {\"acc_train\": acc_train, \"acc_val\": acc_logreg, \"prec\": prec, \"recal\": recal, \"weights\":0})\n",
    "    print( {\"acc_train\": acc_train, \"acc_val\": acc_logreg, \"prec\": prec, \"recal\": recal, \"weights\":0})\n"
   ]
  },
  {
   "cell_type": "code",
   "execution_count": null,
   "metadata": {},
   "outputs": [],
   "source": []
  },
  {
   "cell_type": "code",
   "execution_count": 13,
   "metadata": {},
   "outputs": [
    {
     "name": "stdout",
     "output_type": "stream",
     "text": [
      "[[{'acc_train': 0.5795927304576308, 'acc_val': 0.556467498358503, 'prec': array([0.5564675, 1.       ]), 'recal': array([1., 0.]), 'weights': 0}], [{'acc_train': 0.5795927304576308, 'acc_val': 0.556467498358503, 'prec': array([0.5564675, 1.       ]), 'recal': array([1., 0.]), 'weights': 0}], [{'acc_train': 0.5995182833369826, 'acc_val': 0.571897570584373, 'prec': array([0.5651884, 1.       ]), 'recal': array([1.        , 0.03478905]), 'weights': 0}], [{'acc_train': 0.995839719728487, 'acc_val': 0.7534471437951412, 'prec': array([0.75349087, 0.75337838]), 'recal': array([0.82772861, 0.66025167]), 'weights': 0}], [{'acc_train': 0.995839719728487, 'acc_val': 0.7534471437951412, 'prec': array([0.75349087, 0.75337838]), 'recal': array([0.82772861, 0.66025167]), 'weights': 0}], [{'acc_train': 0.995839719728487, 'acc_val': 0.7534471437951412, 'prec': array([0.75349087, 0.75337838]), 'recal': array([0.82772861, 0.66025167]), 'weights': 0}]]\n"
     ]
    },
    {
     "data": {
      "image/png": "[encoded data removed]",
      "text/plain": [
       "<Figure size 640x480 with 1 Axes>"
      ]
     },
     "metadata": {},
     "output_type": "display_data"
    },
    {
     "data": {
      "text/plain": [
       "<matplotlib.legend.Legend at 0x22747cff8d0>"
      ]
     },
     "execution_count": 13,
     "metadata": {},
     "output_type": "execute_result"
    },
    {
     "data": {
      "image/png": "[encoded data removed]",
      "text/plain": [
       "<Figure size 640x480 with 1 Axes>"
      ]
     },
     "metadata": {},
     "output_type": "display_data"
    }
   ],
   "source": [
    "acc_train = []\n",
    "acc_val = []\n",
    "weights = []\n",
    "recall = []\n",
    "prec = []\n",
    "specific_result = results\n",
    "print(specific_result)\n",
    "for i in range(len(results)):\n",
    "    acc_train.append(specific_result[i][0][\"acc_train\"])\n",
    "    acc_val.append(specific_result[i][0][\"acc_val\"])\n",
    "    weights.append(specific_result[i][0][\"weights\"])\n",
    "    recall.append(specific_result[i][0][\"recal\"][0])\n",
    "    prec.append(specific_result[i][0][\"prec\"][0])\n",
    "\n",
    "subsets=[str(x) for x in lmdas]\n",
    "\n",
    "\n",
    "# print(acc_train)\n",
    "plt.title(\"(Poly L2) lamdas vs acc_train, acc_val\")\n",
    "# plt.scatter(lmdas, l1acc_train, color='red', label=\"acc_train\")\n",
    "# plt.scatter(lmdas, l1acc_val, color='blue', label=\"acc_val\")\n",
    "plt.plot(lmdas, acc_train, color='red', label = \"acc_train\")\n",
    "plt.plot(lmdas, acc_val, color='blue', label = \"acc_val\")\n",
    "plt.legend()\n",
    "plt.show()\n",
    "\n",
    "fig = plt.figure()\n",
    "fig.suptitle(\"(Poly L2) lamdas vs acc_train, acc_val\")\n",
    "ax = fig.add_subplot(111)\n",
    "ax.plot(subsets, acc_train, color='red', label = \"acc_train\")\n",
    "ax.plot(subsets, acc_val, color='blue', label = \"acc_val\")\n",
    "plt.legend()\n",
    "\n",
    "# plt.title(\"(Linear) lamdas vs recall, precision\")\n",
    "# plt.plot(lmdas, recall, color='purple',label=\"recall\")\n",
    "# plt.plot(lmdas, prec, color='yellow', label=\"precision\")\n",
    "# plt.legend()\n",
    "# plt.show()\n",
    "\n",
    "# fig = plt.figure()\n",
    "# fig.suptitle(\"(Poly L2) lamdas vs recall, precision\")\n",
    "# ax = fig.add_subplot(111)\n",
    "# ax.plot(subsets, recall, color='purple',label=\"recall\")\n",
    "# ax.plot(subsets, prec, color='yellow', label=\"precision\")\n",
    "# plt.legend()"
   ]
  }
 ],
 "metadata": {
  "kernelspec": {
   "display_name": "Python 3",
   "language": "python",
   "name": "python3"
  },
  "language_info": {
   "codemirror_mode": {
    "name": "ipython",
    "version": 3
   },
   "file_extension": ".py",
   "mimetype": "text/x-python",
   "name": "python",
   "nbconvert_exporter": "python",
   "pygments_lexer": "ipython3",
   "version": "3.11.9"
  }
 },
 "nbformat": 4,
 "nbformat_minor": 2
}
